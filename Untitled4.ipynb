{
  "cells": [
    {
      "cell_type": "code",
      "execution_count": null,
      "metadata": {
        "id": "03FgkIqhjGPa"
      },
      "outputs": [],
      "source": [
        "import tensorflow as tf\n",
        "from tensorflow.keras.preprocessing.image import ImageDataGenerator\n",
        "from tensorflow.keras.applications import VGG16\n",
        "from tensorflow.keras import layers, models, optimizers\n",
        "import requests\n",
        "import zipfile\n",
        "import os\n"
      ]
    },
    {
      "cell_type": "code",
      "execution_count": null,
      "metadata": {
        "id": "ajIe4FemjVx3"
      },
      "outputs": [],
      "source": [
        "dataset_url = \"https://prod-dcd-datasets-cache-zipfiles.s3.eu-west-1.amazonaws.com/hxsnvwty3r-1.zip\""
      ]
    },
    {
      "cell_type": "code",
      "execution_count": null,
      "metadata": {
        "id": "Jlbb1tpNjfwh"
      },
      "outputs": [],
      "source": [
        "zip_path = \"/content/dataset.zip\"\n",
        "extract_path = \"/content/MangoLeafBD_Dataset\"\n"
      ]
    },
    {
      "cell_type": "code",
      "execution_count": null,
      "metadata": {
        "id": "18eifLNFjmvs"
      },
      "outputs": [],
      "source": [
        "# Download the dataset zip file\n",
        "response = requests.get(dataset_url)\n",
        "with open(zip_path, 'wb') as f:\n",
        "    f.write(response.content)\n"
      ]
    },
    {
      "cell_type": "code",
      "execution_count": null,
      "metadata": {
        "id": "UrtBfnEHjuQq"
      },
      "outputs": [],
      "source": [
        "# Extract the dataset\n",
        "with zipfile.ZipFile(zip_path, 'r') as zip_ref:\n",
        "    zip_ref.extractall(extract_path)\n"
      ]
    },
    {
      "cell_type": "code",
      "execution_count": null,
      "metadata": {
        "colab": {
          "base_uri": "https://localhost:8080/"
        },
        "id": "AfVkqjdwj1n9",
        "outputId": "4a05d586-2bc9-4832-a290-ab855c0bdbf3"
      },
      "outputs": [
        {
          "output_type": "stream",
          "name": "stdout",
          "text": [
            "Dataset extracted to /content/MangoLeafBD_Dataset\n"
          ]
        }
      ],
      "source": [
        "print(f\"Dataset extracted to {extract_path}\")\n",
        "\n"
      ]
    },
    {
      "cell_type": "code",
      "execution_count": null,
      "metadata": {
        "id": "X6Zc1i4Lj5i9"
      },
      "outputs": [],
      "source": [
        "# Define the path to the extracted dataset directory\n",
        "dataset_path = os.path.join(extract_path, \"MangoLeafBD Dataset\")  # Update if necessary\n"
      ]
    },
    {
      "cell_type": "code",
      "execution_count": null,
      "metadata": {
        "colab": {
          "base_uri": "https://localhost:8080/"
        },
        "id": "03Ky7Kaqj_Hq",
        "outputId": "a003c9b6-a672-4e09-9ef3-d56139d0dc14"
      },
      "outputs": [
        {
          "output_type": "stream",
          "name": "stdout",
          "text": [
            "Found 3200 images belonging to 8 classes.\n"
          ]
        }
      ],
      "source": [
        "# Data augmentation\n",
        "train_datagen = ImageDataGenerator(\n",
        "    rescale=1./255,\n",
        "    rotation_range=40,\n",
        "    width_shift_range=0.2,\n",
        "    height_shift_range=0.2,\n",
        "    shear_range=0.2,\n",
        "    zoom_range=0.2,\n",
        "    horizontal_flip=True,\n",
        "    fill_mode='nearest',\n",
        "    validation_split=0.2\n",
        ")\n",
        "\n",
        "val_datagen = ImageDataGenerator(rescale=1./255, validation_split=0.2)\n",
        "train_generator = train_datagen.flow_from_directory(\n",
        "    dataset_path,\n",
        "    target_size=(224, 224),\n",
        "    batch_size=32,\n",
        "    class_mode='categorical',\n",
        "    subset='training'\n",
        ")\n"
      ]
    },
    {
      "cell_type": "code",
      "execution_count": null,
      "metadata": {
        "colab": {
          "base_uri": "https://localhost:8080/"
        },
        "id": "YIynpbwzkHSO",
        "outputId": "a7e75912-20bc-4fc9-e2cf-d3a5b68989b8"
      },
      "outputs": [
        {
          "output_type": "stream",
          "name": "stdout",
          "text": [
            "Found 800 images belonging to 8 classes.\n"
          ]
        }
      ],
      "source": [
        "val_generator = val_datagen.flow_from_directory(\n",
        "    dataset_path,\n",
        "    target_size=(224, 224),\n",
        "    batch_size=32,\n",
        "    class_mode='categorical',\n",
        "    subset='validation'\n",
        ")\n"
      ]
    },
    {
      "cell_type": "code",
      "execution_count": null,
      "metadata": {
        "colab": {
          "base_uri": "https://localhost:8080/"
        },
        "id": "K-FlmHn6kL88",
        "outputId": "1935dbf9-3979-4bf3-a19d-f875ab21f718"
      },
      "outputs": [
        {
          "output_type": "stream",
          "name": "stdout",
          "text": [
            "Downloading data from https://storage.googleapis.com/tensorflow/keras-applications/vgg16/vgg16_weights_tf_dim_ordering_tf_kernels_notop.h5\n",
            "58889256/58889256 [==============================] - 0s 0us/step\n"
          ]
        }
      ],
      "source": [
        "# Load the VGG16 model with pre-trained weights\n",
        "base_model = VGG16(weights='imagenet', include_top=False, input_shape=(224, 224, 3))\n",
        "\n"
      ]
    },
    {
      "cell_type": "code",
      "execution_count": null,
      "metadata": {
        "id": "0rLgNnnGkQFu"
      },
      "outputs": [],
      "source": [
        "# Freeze the base model\n",
        "base_model.trainable = False\n",
        "\n",
        "# Add custom layers on top of the base model\n",
        "model = models.Sequential([\n",
        "    base_model,\n",
        "    layers.Flatten(),\n",
        "    layers.Dense(512, activation='relu'),\n",
        "    layers.Dropout(0.5),\n",
        "    layers.Dense(8, activation='softmax')  # Adjust the number of classes\n",
        "])\n"
      ]
    },
    {
      "cell_type": "code",
      "execution_count": null,
      "metadata": {
        "colab": {
          "base_uri": "https://localhost:8080/"
        },
        "id": "_pUwF2nAkVsV",
        "outputId": "4ce0bf64-cc73-4558-a66c-c513bf163a79"
      },
      "outputs": [
        {
          "output_type": "stream",
          "name": "stdout",
          "text": [
            "Epoch 1/20\n",
            "100/100 [==============================] - 58s 470ms/step - loss: 1.2122 - accuracy: 0.5681 - val_loss: 0.6252 - val_accuracy: 0.7937\n",
            "Epoch 2/20\n",
            "100/100 [==============================] - 45s 454ms/step - loss: 0.5846 - accuracy: 0.8125 - val_loss: 0.4157 - val_accuracy: 0.8913\n",
            "Epoch 3/20\n",
            "100/100 [==============================] - 47s 462ms/step - loss: 0.4306 - accuracy: 0.8647 - val_loss: 0.3553 - val_accuracy: 0.8838\n",
            "Epoch 4/20\n",
            "100/100 [==============================] - 45s 454ms/step - loss: 0.3637 - accuracy: 0.8813 - val_loss: 0.2882 - val_accuracy: 0.9087\n",
            "Epoch 5/20\n",
            "100/100 [==============================] - 45s 450ms/step - loss: 0.2950 - accuracy: 0.9109 - val_loss: 0.2452 - val_accuracy: 0.9237\n",
            "Epoch 6/20\n",
            "100/100 [==============================] - 47s 473ms/step - loss: 0.2696 - accuracy: 0.9144 - val_loss: 0.3236 - val_accuracy: 0.8875\n",
            "Epoch 7/20\n",
            "100/100 [==============================] - 46s 455ms/step - loss: 0.2381 - accuracy: 0.9219 - val_loss: 0.2572 - val_accuracy: 0.9162\n",
            "Epoch 8/20\n",
            "100/100 [==============================] - 47s 467ms/step - loss: 0.2360 - accuracy: 0.9222 - val_loss: 0.2581 - val_accuracy: 0.9087\n",
            "Epoch 9/20\n",
            "100/100 [==============================] - 47s 466ms/step - loss: 0.2099 - accuracy: 0.9312 - val_loss: 0.2111 - val_accuracy: 0.9262\n",
            "Epoch 10/20\n",
            "100/100 [==============================] - 45s 450ms/step - loss: 0.1905 - accuracy: 0.9375 - val_loss: 0.1946 - val_accuracy: 0.9400\n",
            "Epoch 11/20\n",
            "100/100 [==============================] - 45s 451ms/step - loss: 0.1927 - accuracy: 0.9369 - val_loss: 0.2040 - val_accuracy: 0.9312\n",
            "Epoch 12/20\n",
            "100/100 [==============================] - 46s 458ms/step - loss: 0.1963 - accuracy: 0.9375 - val_loss: 0.1918 - val_accuracy: 0.9325\n",
            "Epoch 13/20\n",
            "100/100 [==============================] - 47s 471ms/step - loss: 0.1583 - accuracy: 0.9475 - val_loss: 0.2293 - val_accuracy: 0.9200\n",
            "Epoch 14/20\n",
            "100/100 [==============================] - 46s 456ms/step - loss: 0.1685 - accuracy: 0.9434 - val_loss: 0.2020 - val_accuracy: 0.9362\n",
            "Epoch 15/20\n",
            "100/100 [==============================] - 47s 465ms/step - loss: 0.1526 - accuracy: 0.9528 - val_loss: 0.1879 - val_accuracy: 0.9388\n",
            "Epoch 16/20\n",
            "100/100 [==============================] - 45s 449ms/step - loss: 0.1416 - accuracy: 0.9563 - val_loss: 0.2043 - val_accuracy: 0.9325\n",
            "Epoch 17/20\n",
            "100/100 [==============================] - 48s 482ms/step - loss: 0.1456 - accuracy: 0.9519 - val_loss: 0.1723 - val_accuracy: 0.9413\n",
            "Epoch 18/20\n",
            "100/100 [==============================] - 45s 452ms/step - loss: 0.1370 - accuracy: 0.9494 - val_loss: 0.1937 - val_accuracy: 0.9225\n",
            "Epoch 19/20\n",
            "100/100 [==============================] - 45s 454ms/step - loss: 0.1320 - accuracy: 0.9550 - val_loss: 0.1427 - val_accuracy: 0.9538\n",
            "Epoch 20/20\n",
            "100/100 [==============================] - 45s 449ms/step - loss: 0.1390 - accuracy: 0.9488 - val_loss: 0.1704 - val_accuracy: 0.9500\n"
          ]
        }
      ],
      "source": [
        "# Compile the model\n",
        "model.compile(optimizer=optimizers.Adam(learning_rate=1e-4),\n",
        "              loss='categorical_crossentropy',\n",
        "              metrics=['accuracy'])\n",
        "\n",
        "# Train the model\n",
        "history = model.fit(\n",
        "    train_generator,\n",
        "    epochs=20,\n",
        "    validation_data=val_generator,\n",
        "    steps_per_epoch=len(train_generator),\n",
        "    validation_steps=len(val_generator)\n",
        ")\n"
      ]
    },
    {
      "cell_type": "code",
      "execution_count": null,
      "metadata": {
        "id": "J_-Vl8fquI1d",
        "colab": {
          "base_uri": "https://localhost:8080/"
        },
        "outputId": "72f6636e-4e6c-420d-fede-4f38a1bec9e4"
      },
      "outputs": [
        {
          "output_type": "stream",
          "name": "stdout",
          "text": [
            "25/25 [==============================] - 4s 140ms/step - loss: 0.1704 - accuracy: 0.9500\n",
            "Validation Accuracy: 95.00%\n"
          ]
        }
      ],
      "source": [
        "# Evaluate the model on the validation dataset\n",
        "val_loss, val_accuracy = model.evaluate(val_generator)\n",
        "print(f\"Validation Accuracy: {val_accuracy * 100:.2f}%\")"
      ]
    },
    {
      "cell_type": "markdown",
      "metadata": {
        "id": "K_hlyculmNaa"
      },
      "source": []
    }
  ],
  "metadata": {
    "colab": {
      "provenance": [],
      "gpuType": "T4"
    },
    "kernelspec": {
      "display_name": "Python 3",
      "name": "python3"
    },
    "language_info": {
      "name": "python"
    },
    "accelerator": "GPU"
  },
  "nbformat": 4,
  "nbformat_minor": 0
}